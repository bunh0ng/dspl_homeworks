{
 "cells": [
  {
   "cell_type": "markdown",
   "metadata": {},
   "source": [
    "# Домашнее задание №1. Инструмент для анализа текста\n",
    "\n",
    "**Основная задача**: Создайте инструмент для анализа текста, который обрабатывает текстовые записи (например, отзывы пользователей, статьи или отрывки из книг) и предоставляет некоторые выводы, статистику и преобразования. После этого примените инструмент для анализа текста в соответствии с вашим вариантом и сделайте выводы о характере текста.\n",
    "\n",
    "## Определение анализируемого текста"
   ]
  },
  {
   "cell_type": "code",
   "execution_count": 4,
   "metadata": {},
   "outputs": [
    {
     "name": "stdout",
     "output_type": "stream",
     "text": [
      "Вариант:  1\n",
      "Анализируемый текст: \n",
      "**_Stellar Blade_** is the latest exclusive to hit the PlayStation 5 that excels\n",
      "at delivering a highly riveting action RPG. Shift Up Corporation has crafted an\n",
      "impressive linear title that takes influences from some of the most renowned\n",
      "games in recent times. **Even though the parallels are quite apparent, _Stellar\n",
      "Blade_ doesn’t try to reinvent the wheel but rather refines what players are\n",
      "already familiar with.**  _Stellar Blade_ is centered around EVE, a member of\n",
      "the 7th Airborne Division w...\n"
     ]
    }
   ],
   "source": [
    "import textwrap\n",
    "\n",
    "surname = \"Шегай\"  # Ваша фамилия\n",
    "\n",
    "if not surname:\n",
    "    raise Exception('Необходимо указать фамилию!')\n",
    "\n",
    "alp = \"абвгдеёжзийклмнопрстуфхцчшщъыьэюя\"\n",
    "w = [1, 4, 21, 25, 34,  6, 44, 26, 13, 44, 38, 26, 4, 43,  4, 49, 46,\n",
    "        17, 42, 29,  4,  9, 36, 34, 31, 22,  15, 30,  4, 19, 28, 28, 33]\n",
    "\n",
    "d = dict(zip(alp, w))\n",
    "variant =  sum([d[el] for el in surname.lower()]) % 4 + 1\n",
    "\n",
    "print(\"Вариант: \", variant)\n",
    "\n",
    "# Construct the file name based on the variant number\n",
    "file_name = f\"data/{variant}.txt\"\n",
    "\n",
    "# Read the contents of the file\n",
    "with open(file_name, \"r\", encoding=\"utf-8\") as file:\n",
    "    TEXT = file.read()\n",
    "\n",
    "wrapped = textwrap.fill(TEXT[:500], width=80)\n",
    "print(f\"Анализируемый текст: \\n{wrapped}...\")"
   ]
  },
  {
   "cell_type": "markdown",
   "metadata": {},
   "source": [
    "# Задача 1: Сбор и предварительная обработка данных\n",
    "\n",
    "**Задание:**\n",
    "\n",
    "Написать функцию `preprocess_text`, которая принимает на вход текст и очищает его. Функция должна:\n",
    "* Преобразовывать текст в строчные буквы.\n",
    "* Удалять ненужные знаки препинания и специальные символы, но сохранять знаки препинания в конце предложения (. ! ?).\n",
    "* Удалить лишние пробелы между словами.\n",
    "* Вернуть очищенный текст.\n",
    "\n",
    "**Решение:**"
   ]
  },
  {
   "cell_type": "code",
   "execution_count": 8,
   "metadata": {},
   "outputs": [],
   "source": [
    "def preprocess_text(text: str) -> str:\n",
    "    import re\n",
    "    \n",
    "    ttext = text.lower()\n",
    "    ttext = re.sub(r'[^a-z\\s.!?0-9\\']', '', ttext)\n",
    "    ttext = re.sub(r'([.!?])\\1+', r'\\1', ttext)\n",
    "    ttext = re.sub(r'\\s+', ' ', ttext).strip()\n",
    "\n",
    "    return ttext\n"
   ]
  },
  {
   "cell_type": "markdown",
   "metadata": {},
   "source": [
    "**Описание решения:**\n",
    "\n",
    "Функция `preprocess_text` использует библиотеку `re` и обрабатывает заданную строку при помощи регулярных выражений. Функция работает по следующему алгоритму:\n",
    "\n",
    "1) При помощи метода `lower()` преобразовывает текст в строчные буквы.\n",
    "2) При помощи метода `sub` из библиотеки `re` удаляет все символы, кроме латинских букв и знаков (. ! ?).\n",
    "3) При помощи метода `sub` из библиотеки `re` удаляет все повторяющиеся знаки препинания.\n",
    "4) При помощи метода `sub` из библиотеки `re` удаляет все лишние пробелы."
   ]
  },
  {
   "cell_type": "markdown",
   "metadata": {},
   "source": [
    "# Задача 2: Анализ частоты слов\n",
    "\n",
    "**Задание:**\n",
    "\n",
    "Написать функцию `word_frequency`, которая берет очищенный текст (из задания 1) и возвращает словарь, где ключами являются слова, а значениями - их частота в тексте. Функция должна:\n",
    "* Подсчитать, как часто каждое слово встречается в тексте.\n",
    "* Игнорировать любые общие стоп-слова. Вы можете использовать предопределенный список, приведенный ниже, или использовать свой собственный. Подумайте о том, чтобы сделать его настраиваемым.\n",
    "\n",
    "**Предопределённые стоп-слова:**"
   ]
  },
  {
   "cell_type": "code",
   "execution_count": 9,
   "metadata": {},
   "outputs": [],
   "source": [
    "stop_words = [\"i\", \"and\", \"the\", \"is\", \"in\", \"it\", \"you\", \"that\", \"to\", \"of\", \"a\", \"with\", \"for\", \"on\", \"this\", \"at\", \"by\", \"an\", \"its\"]"
   ]
  },
  {
   "cell_type": "markdown",
   "metadata": {},
   "source": [
    "**Решение:**"
   ]
  },
  {
   "cell_type": "code",
   "execution_count": 10,
   "metadata": {},
   "outputs": [],
   "source": [
    "def word_frequency(text: str, stop_words=None) -> dict:\n",
    "    import re\n",
    "    stop_words = stop_words if stop_words else [\"i\", \"and\", \"the\", \"is\", \"in\", \"it\", \"you\", \"that\", \"to\", \n",
    "                                                \"of\", \"a\", \"with\", \"for\", \"on\", \"this\", \"at\", \"by\", \"an\", \"its\"]\n",
    "    words = dict()\n",
    "    ttext = preprocess_text(text)\n",
    "    ttext = re.sub(r'[^a-z\\s\\']', '', ttext).split()\n",
    "    \n",
    "    for word in ttext:\n",
    "        if word in stop_words:\n",
    "            pass\n",
    "        elif word not in words:\n",
    "            words[word] = 1\n",
    "        else:\n",
    "            words[word] += 1\n",
    "\n",
    "    return words\n"
   ]
  },
  {
   "cell_type": "markdown",
   "metadata": {},
   "source": [
    "**Описание решения:**\n",
    "\n",
    "Функция `word_frequency` работает по следующему алгоритму:\n",
    "\n",
    "1) При помощи метода `sub` из библиотеки `re` удаляет все знаки препинания.\n",
    "2) При помощи метода `split()` разделяет полученный текст на массив из слов\n",
    "3) Функция перебирает каждое слово в массиве и проверяет, находится ли оно в списке стоп-слов и есть ли оно в словаре.\n",
    "4) Если слово есть в списке стоп-слов, функция его пропускает\n",
    "5) Если слова нет в словаре, в словарь добавляется новый элемент с ключом, соответсвующим самому слову, и значением `1`.\n",
    "6) Если слово есть в словаре, функция находит в нем элемент с соответсвтующим ключом и добавляет к значению +1."
   ]
  },
  {
   "cell_type": "markdown",
   "metadata": {},
   "source": [
    "# Задача 3: Извлечение информации\n",
    "\n",
    "**Задача:** \n",
    "\n",
    "Написать функцию `extract_information`, которая берет неочищенный текст (не из задания 1) и извлекает определенные типы информации на основе настраиваемых шаблонов `regex`, предоставленных в качестве keyword-аргументов. Функция должна возвращать словарь, в котором ключи - это типы совпадений, а значения - списки найденных совпадений.\n",
    "\n",
    "**Поддерживаемые типы информации:**\n",
    "\n",
    "* Адреса электронных почт\n",
    "* Телефонные номера\n",
    "* Даты\n",
    "* Время\n",
    "* Цены\n",
    "* Дополнительные данные по желанию пользователя\n",
    "\n",
    "**Решение:**"
   ]
  },
  {
   "cell_type": "code",
   "execution_count": 11,
   "metadata": {},
   "outputs": [],
   "source": [
    "def extract_information(text: str, *, \n",
    "                        email_pattern=r'[a-zA-Z0-9._%+-]+@[a-zA-Z0-9.-]+\\.[a-zA-Z]{2,}',\n",
    "                        phone_pattern=r'[\\+\\(]\\d[\\d\\s\\-\\)]{8,12}\\d', \n",
    "                        date_pattern=r'\\b\\d{1,2}[-/]\\d{1,2}[-/]\\d{2,4}\\b',\n",
    "                        time_pattern=r'\\b\\d{1,2}:\\d{2}\\s*[APap][mM]?\\b', \n",
    "                        price_pattern=r'\\$\\d+(?:\\.\\d{2})?',\n",
    "                        **extra_patterns) -> dict:\n",
    "    import re\n",
    "\n",
    "    information = {\n",
    "        'emails': re.findall(email_pattern, text),\n",
    "        'phone_numbers': re.findall(phone_pattern, text),\n",
    "        'dates': re.findall(date_pattern, text),\n",
    "        'times': re.findall(time_pattern, text),\n",
    "        'prices': re.findall(price_pattern, text)\n",
    "    }\n",
    "\n",
    "    for key, pattern in extra_patterns.items():\n",
    "        information[key] = re.findall(pattern, text)\n",
    "        \n",
    "    return information\n"
   ]
  },
  {
   "cell_type": "markdown",
   "metadata": {},
   "source": [
    "**Описание решения:**\n",
    "\n",
    "Функция `extract_information` работает по следующему алгоритму:\n",
    "\n",
    "1) Создается исходный словарь `information`\n",
    "2) При помощи метода `findall` из библиотеки `re` находит все совпадения с паттернами по умолчанию и записывает их в словарь.\n",
    "3) При помощи цикла `for` поочередно перебирает паттерны дополнительных данных.\n",
    "4) При помощи метода `findall` из библиотеки `re` находит все совпадения с дополнительными паттернами и записывает их в словарь."
   ]
  },
  {
   "cell_type": "markdown",
   "metadata": {},
   "source": [
    "# Задача 4: Анализ настроения\n",
    "\n",
    "**Задание:**\n",
    "\n",
    "Написать функцию `analyze_sentiment`, которая берет очищенный текст (из задания 1) и анализирует его настроение на основе заранее определенных положительных и отрицательных слов. Функция должна возвращать оценку настроения текста.\n",
    "\n",
    "**Предназначенные списки слов:**\n",
    "\n",
    "* Положительные слова (по умолчанию):"
   ]
  },
  {
   "cell_type": "code",
   "execution_count": 12,
   "metadata": {},
   "outputs": [],
   "source": [
    "positive_words = [\"good\", \"great\", \"happy\", \"joy\", \"excellent\", \"fantastic\", \"love\", \"best\", \"amazing\", \"fun\"]"
   ]
  },
  {
   "cell_type": "markdown",
   "metadata": {},
   "source": [
    "* Негативные слова (по умлочанию):"
   ]
  },
  {
   "cell_type": "code",
   "execution_count": 13,
   "metadata": {},
   "outputs": [],
   "source": [
    "negative_words = [\"bad\", \"sad\", \"hate\", \"terrible\", \"awful\", \"poor\", \"worst\"]"
   ]
  },
  {
   "cell_type": "markdown",
   "metadata": {},
   "source": [
    "**Решение:**"
   ]
  },
  {
   "cell_type": "code",
   "execution_count": 14,
   "metadata": {},
   "outputs": [],
   "source": [
    "def analyze_sentiment(text: str, positive_words=None, negative_words=None) -> int:\n",
    "    import re\n",
    "    positive_words = positive_words if positive_words else [\"good\", \"great\", \"happy\", \"joy\", \"excellent\", \"fantastic\", \n",
    "                                                            \"love\", \"best\", \"amazing\", \"fun\"]\n",
    "    negative_words = negative_words if negative_words else [\"bad\", \"sad\", \"hate\", \"terrible\", \"awful\", \"poor\", \"worst\"]\n",
    "    sentiment_score = 0\n",
    "    ttext = preprocess_text(text)\n",
    "    ttext = re.sub(r'[^a-z\\s]', '', preprocess_text(ttext)).split()\n",
    "    for word in ttext:\n",
    "        if word in positive_words:\n",
    "            sentiment_score += 1\n",
    "        elif word in negative_words:\n",
    "            sentiment_score -= 1\n",
    "        else: pass\n",
    "    \n",
    "    return sentiment_score\n"
   ]
  },
  {
   "cell_type": "markdown",
   "metadata": {},
   "source": [
    "**Описание решения:**\n",
    "\n",
    "Функция `analyze_sentiment` работает по следующему алгоритму:\n",
    "\n",
    "1) При помощи метода `sub` из библиотеки `re` удаляет из текста все символы, кроме букв и пробелов.\n",
    "2) При помощи метода `split` разделяет полученную строку на массив слов.\n",
    "3) Поочередно рассматривает каждое слово в массиве. \n",
    "4) Если встречается слово из массива `positive_words`, к промежуточной сумме `sentimet_score` добавляется 1.\n",
    "5) Если встречается слово из массива `negative_words`, из промежуточной сумме `sentimet_score` вычитается 1."
   ]
  },
  {
   "cell_type": "markdown",
   "metadata": {},
   "source": [
    "# Задача 5: Обобщение текста\n",
    "\n",
    "**Задание:**\n",
    "\n",
    "Написать функцию `summarize_text`, которая берет очищенный текст (из задания 1) и обобщает его, извлекая наиболее важные предложения на основе их релевантности. Функция должна позволять пользователю указывать в качестве параметра желаемый коэффициент сжатия.\n",
    "\n",
    "**Решение:**"
   ]
  },
  {
   "cell_type": "code",
   "execution_count": 15,
   "metadata": {},
   "outputs": [],
   "source": [
    "def summarize_text(text: str, compression_ratio: float, min_threshold: int=2):\n",
    "    import re\n",
    "    ttext = text\n",
    "    sentences = re.split(r'(?<=\\w[.!?])\\s+', ttext)\n",
    "    if len(sentences) <= max(len(sentences) * compression_ratio, min_threshold):\n",
    "        \n",
    "        return ttext\n",
    "\n",
    "    def sentence_importance(sentence: str) -> int:\n",
    "        return analyze_sentiment(sentence) + len(sentence.split())\n",
    "\n",
    "    importances = [[sentence, sentence_importance(sentence)] for sentence in sentences]\n",
    "\n",
    "    sorted_importances = sorted(importances, key=lambda x: x[1])\n",
    "    sentences.remove(sorted_importances[0][0])\n",
    "\n",
    "    return summarize_text(' '.join(sentences), compression_ratio, min_threshold)"
   ]
  },
  {
   "cell_type": "markdown",
   "metadata": {},
   "source": [
    "**Описание решения:**\n",
    "\n",
    "Функция `summarize_text` работает по следующему алгоритму:\n",
    "\n",
    "1) При помощи метода `split` из библиотеки `re` преобразуем исходный текст в массив предложений.\n",
    "2) Сравниваем текущую длину массива с максимумом среди `len(sentences) * compression_ratio` и `min_threshold`.\n",
    "3) Вложенная функция `sentence_importance` служит для определения важности предложения.\n",
    "4) Создается массив из предложений и значений их важности.\n",
    "5) Массив сортируется по важности от наименее важного к наиболее важному.\n",
    "6) Из оригинального массива предложений удаляется наименее важное предложение.\n",
    "7) Функция вызывается до тех пор, пока длина массива предложений не окажется меньше или равна максимуму среди `len(sentences) * compression_ratio` и `min_threshold`."
   ]
  },
  {
   "cell_type": "markdown",
   "metadata": {},
   "source": [
    "# Задание 6: Визуализация частоты слов\n",
    "\n",
    "**Задание:**\n",
    "\n",
    "Написать функцию `visualize_word_frequency`, которая берет словарь частот слов (полученный в задании 2) и визуализирует частоты в текстовом формате.\n",
    "\n",
    "**Решение:**"
   ]
  },
  {
   "cell_type": "code",
   "execution_count": 16,
   "metadata": {},
   "outputs": [],
   "source": [
    "def visualize_word_frequency(word_frequencies: dict, max_threshold=20):\n",
    "    sorted_word_frequencies = sorted(word_frequencies.items(), key=lambda item: item[1], reverse=True)\n",
    "    for index, element in enumerate(sorted_word_frequencies):\n",
    "        if index < max_threshold:\n",
    "            print(f'{element[0]}:'.ljust(max(map(len, word_frequencies))+1), element[1]*\"*\")\n"
   ]
  },
  {
   "cell_type": "markdown",
   "metadata": {},
   "source": [
    "**Объяснение решения:**\n",
    "\n",
    "Функция `visualize_word_frequency` работает по следующему алгоритму:\n",
    "\n",
    "1) Входной словарь `word_frequencies` сортируется по возрастанию значений элементов и преобразуется в массив.\n",
    "2) Поочередно рассматривается каждый элемент полученного массива.\n",
    "3) Если индекс элемента не превышает значение `max_threshold` (по умолчанию 20), на экран выводится слово и символ `*`, число которого соответсвует значению из словаря."
   ]
  },
  {
   "cell_type": "markdown",
   "metadata": {},
   "source": [
    "# Задание 7: Функции высшего порядка для анализа текста\n",
    "\n",
    "**Задача:**\n",
    "\n",
    "Написать функцию `apply_analysis`, которая принимает список функций анализа и одну текстовую запись. Функция должна применять каждую функцию анализа к текстовой записи и возвращать словарь результатов.\n",
    "\n",
    "**Решение:**"
   ]
  },
  {
   "cell_type": "code",
   "execution_count": 17,
   "metadata": {},
   "outputs": [],
   "source": [
    "def apply_analysis(text: str, functions) -> dict:\n",
    "    results = dict()\n",
    "    ttext = text\n",
    "    for function in functions:\n",
    "        results[function.__name__] = function(ttext)\n",
    "\n",
    "    return results\n"
   ]
  },
  {
   "cell_type": "markdown",
   "metadata": {},
   "source": [
    "**Объяснение решения:**\n",
    "\n",
    "Функция `apply_analysis` работает по следующему алгоритму:\n",
    "\n",
    "1) Создается пустой словарь `results`.\n",
    "2) Поочередно рассматривается каждая функция из входного массива функций.\n",
    "3) В словарь записывается результат выполнения очередной функции из массива. В качестве ключа служит имя функции."
   ]
  },
  {
   "cell_type": "markdown",
   "metadata": {},
   "source": [
    "# Задача 8: Обернуть всё в класс\n",
    "\n",
    "**Задание:**\n",
    "\n",
    "Создать класс `TextAnalyzer`, который инкапсулирует всю функциональность из предыдущих задач. Класс должен включать методы для каждого из следующих действий:\n",
    "\n",
    "1) Инициализация:\n",
    "\n",
    " * Класс должен принимать один текст при инициализации, хранить исходный текст и автоматически создавать его предобработанную версию.\n",
    "2) Методы:\n",
    "\n",
    "* `word_frequency`: Анализирует частоту слов из предварительно обработанного текста.\n",
    "* `extract_information`: Извлекает электронные письма, номера телефонов, даты, время и цены из предварительно обработанного текста.\n",
    "* `analyze_sentiment`: Выполняет анализ настроения предварительно обработанного текста.\n",
    "* `summarize_text`: Обобщает предварительно обработанный текст на основе коэффициента сжатия.\n",
    "* `visualize_word_frequency`: Визуализирует данные о частоте слов в тексте.\n",
    "* `apply_analysis`: Применяет список функций анализа к предварительно обработанному тексту.\n",
    "\n",
    "**Решение:**"
   ]
  },
  {
   "cell_type": "code",
   "execution_count": 26,
   "metadata": {},
   "outputs": [],
   "source": [
    "import re\n",
    "\n",
    "\n",
    "def word_frequency(text: str, stop_words=None) -> dict:\n",
    "\n",
    "    stop_words = stop_words if stop_words else [\"i\", \"and\", \"the\", \"is\", \"in\", \"it\", \"you\", \"that\", \"to\", \n",
    "                                                \"of\", \"a\", \"with\", \"for\", \"on\", \"this\", \"at\", \"by\", \"an\", \"its\"]\n",
    "    words = dict()\n",
    "    ttext = preprocess_text(text)\n",
    "    ttext = re.sub(r'[^a-z\\s\\']', '', ttext).split()\n",
    "    \n",
    "    for word in ttext:\n",
    "        if word in stop_words:\n",
    "            pass\n",
    "        elif word not in words:\n",
    "            words[word] = 1\n",
    "        else:\n",
    "            words[word] += 1\n",
    "\n",
    "    return words\n",
    "\n",
    "def analyze_sentiment(text: str, positive_words=None, negative_words=None) -> int:\n",
    "    import re\n",
    "    positive_words = positive_words if positive_words else [\"good\", \"great\", \"happy\", \"joy\", \"excellent\", \"fantastic\", \n",
    "                                                            \"love\", \"best\", \"amazing\", \"fun\"]\n",
    "    negative_words = negative_words if negative_words else [\"bad\", \"sad\", \"hate\", \"terrible\", \"awful\", \"poor\", \"worst\"]\n",
    "    sentiment_score = 0\n",
    "    ttext = re.sub(r'[^a-z\\s]', '', preprocess_text(text)).split()\n",
    "    for word in ttext:\n",
    "        if word in positive_words:\n",
    "            sentiment_score += 1\n",
    "        elif word in negative_words:\n",
    "            sentiment_score -= 1\n",
    "        else: pass\n",
    "    \n",
    "    return sentiment_score\n",
    "\n",
    "class TextAnalyzer:\n",
    "\n",
    "    def __init__(self, text: str):\n",
    "        self.original_text = text\n",
    "        self.cleaned_text = self.preprocess_text(text)\n",
    "\n",
    "    def preprocess_text(self, text: str) -> str:\n",
    "    \n",
    "        ttext = text.lower()\n",
    "        ttext = re.sub(r'[^a-z\\s.!?0-9\\'@+]', '', ttext)\n",
    "        ttext = re.sub(r'([.!?])\\1+', r'\\1', ttext)\n",
    "        ttext = re.sub(r'\\s+', ' ', ttext).strip()\n",
    "\n",
    "        return ttext\n",
    "\n",
    "    def word_frequency(self, censored=None) -> dict:\n",
    "\n",
    "        censored = censored if censored else [\"and\", \"the\", \"is\", \"in\", \"it\", \"you\", \"that\", \"to\", \"of\", \"a\", \"with\",\n",
    "                                              \"for\", \"on\", \"this\", \"at\", \"by\", \"an\"]\n",
    "        words = dict()\n",
    "        ttext = re.sub(r'[^a-z\\s\\']', '', self.cleaned_text).split()\n",
    "\n",
    "        for word in ttext:\n",
    "            if word in censored:\n",
    "                pass\n",
    "            elif word not in words:\n",
    "                words[word] = 1\n",
    "            else:\n",
    "                words[word] += 1\n",
    "\n",
    "        return words\n",
    "\n",
    "    def extract_information(self, *,\n",
    "                            email_pattern=r'[a-zA-Z0-9._%+-]+@[a-zA-Z0-9.-]+\\.[a-zA-Z]{2,}',\n",
    "                            phone_pattern=r'\\+\\d[\\d -]{8,12}\\d',\n",
    "                            date_pattern=r'\\b\\d{1,2}[-/]\\d{1,2}[-/]\\d{2,4}\\b',\n",
    "                            time_pattern=r'\\b\\d{1,2}:\\d{2}\\s*[APap][mM]?\\b',\n",
    "                            price_pattern=r'\\$\\d+(?:\\.\\d{2})?',\n",
    "                            **extra_patterns) -> dict:\n",
    "\n",
    "        information = {\n",
    "            'emails': re.findall(email_pattern, self.cleaned_text),\n",
    "            'phone_numbers': re.findall(phone_pattern, self.cleaned_text),\n",
    "            'dates': re.findall(date_pattern, self.cleaned_text),\n",
    "            'times': re.findall(time_pattern, self.cleaned_text),\n",
    "            'prices': re.findall(price_pattern, self.cleaned_text)\n",
    "        }\n",
    "\n",
    "        for key, pattern in extra_patterns.items():\n",
    "            information[key] = re.findall(pattern, self.cleaned_text)\n",
    "\n",
    "        return information\n",
    "\n",
    "    def analyze_sentiment(self, positive_words=None, negative_words=None) -> int:\n",
    "        positive_words = positive_words if positive_words else [\"good\", \"great\", \"happy\", \"joy\", \"excellent\", \"fantastic\",\n",
    "                                                                \"love\", \"best\", \"amazing\", \"fun\"]\n",
    "        negative_words = negative_words if negative_words else [\"bad\", \"sad\", \"hate\", \"terrible\", \"awful\", \"poor\",\n",
    "                                                                \"worst\"]\n",
    "        sentiment_score = 0\n",
    "        for word in self.cleaned_text.split():\n",
    "            if word in positive_words:\n",
    "                sentiment_score += 1\n",
    "            elif word in negative_words:\n",
    "                sentiment_score -= 1\n",
    "            else:\n",
    "                pass\n",
    "\n",
    "        return sentiment_score\n",
    "\n",
    "    def summarize_text(self, compression_ratio: float, min_threshold=2):\n",
    "\n",
    "        sentences = re.split(r'(?<=\\w[.!?])\\s+', self.cleaned_text)\n",
    "        if len(sentences) <= max(len(sentences) * compression_ratio, min_threshold):\n",
    "            return self.cleaned_text\n",
    "\n",
    "        def sentence_importance(sentence: str) -> int:\n",
    "            s = TextAnalyzer(sentence)\n",
    "            return s.analyze_sentiment() + len(sentence.split())\n",
    "\n",
    "        importances = [[sentence, sentence_importance(sentence)] for sentence in sentences]\n",
    "\n",
    "        sorted_importances = sorted(importances, key=lambda x: x[1])\n",
    "        sentences.remove(sorted_importances[0][0])\n",
    "        s = TextAnalyzer(' '.join(sentences))\n",
    "        return s.summarize_text(compression_ratio, min_threshold)\n",
    "\n",
    "    def visualize_word_frequency(self, max_threshold=20):\n",
    "\n",
    "        sorted_word_frequencies = sorted(self.word_frequency().items(), key=lambda item: item[1], reverse=True)\n",
    "        for index, element in enumerate(sorted_word_frequencies):\n",
    "            if index < max_threshold:\n",
    "                print(f'{element[0]}:'.ljust(max(map(len, self.word_frequency())) + 1), element[1] * \"*\")\n",
    "\n",
    "    def apply_analysis(self, functions: list) -> dict:\n",
    "\n",
    "        results = dict()\n",
    "        \n",
    "        for function in functions:\n",
    "            results[function.__name__] = function(self.cleaned_text)\n",
    "\n",
    "        return results\n"
   ]
  },
  {
   "cell_type": "markdown",
   "metadata": {},
   "source": [
    "# Задача 9: Анализ текста\n",
    "\n",
    "**Задание:**\n",
    "\n",
    "Провести анализ предложенного соответствии с вариантом текста. Необходимо:\n",
    "\n",
    "* Нормализовать текст\n",
    "* Узнать наиболее часто встречающиеся слова\n",
    "* Оценить настроение текста\n",
    "* Определить основную информацию текста\n",
    "\n",
    "**Решение:**"
   ]
  },
  {
   "cell_type": "code",
   "execution_count": 27,
   "metadata": {},
   "outputs": [
    {
     "name": "stdout",
     "output_type": "stream",
     "text": [
      "Нормализованный текст:\n",
      "stellar blade is the latest exclusive to hit the playstation 5 that excels at delivering a highly riveting action rpg. shift up corporation has crafted an impressive linear title that takes influences from some of the most renowned games in recent times. even though the parallels are quite apparent stellar blade doesnt try to reinvent the wheel but rather refines what players are already familiar with. stellar blade is centered around eve a member of the 7th airborne division who has come back to a ravaged earth from an offworld colony. she along with other warriors has been sent to investigate the origins of the naytibas and reclaim the planet for humanity. during the course of her mission eve discovers that the history between the naytibas and humans is far more complicated than anticipated. stellar blade stellar blade is an immediate mustplay for ps5. pros spectacular combat mechanics solid performance cool abilities evocative soundtrack cons inconsistent narrative pacing minor visual issues combat gameplay is the star of the show fun exhilarating encounters set in a semiopen world stellar blade is akin to the cult hit nier automata while borrowing gameplay elements from soulslite titles like jedi fallen order. while this may initially sound intimidating it isnt as steadfast in the genres common stereotypes. gameplay can be quite rewarding if players use all the mechanics and rpg systems as intended and it even has a story mode for those who arent experienced with soulslike mechanics. stellar blade demands its players to be precise and adaptable with their actions on normal difficulty and playing a more defensive style will be a boon especially during boss fights. unlike hackandslash titles like nier automata simply attacking an enemy wont get players far. it might work for weaker minions but for boss battles one needs to master timing for parrying and dodging. that's because when performing a perfect parry or a perfect dodge players can counter a naytiba with devastating damage and recharge beta energy abilities that can quickly turn the tide of a battle. due to the impeccable variety of enemy types one always needs to consider these mechanics and learn how to read every opponent. from enemies that lurk around the corner or the fantastic bosses you might stumble upon players always need to be prepared for a fight. stellar blade 's solid combat mechanics and visceral action refine established ideas within the soulslike genre while imbuing it with a distinctive flair. this dance of juggling abilities dodging and parrying in stellar blade makes every boss fight a riveting encounter and there are other tools at your disposal that will also help overcome challenging opponents. eve can use guns and powerful lasers albeit with limited ammo to take down naytibas from afar or target weak points after staggering them. eve can also deploy a biotic field generator on the ground to heal herself within an area of effect or throw mines enabling players to use various strategies on the fly. stellar blade's solid combat mechanics and visceral action refine established ideas within the soulslike genre while imbuing it with a distinctive flair. even after 25 hours these intricate innovations make stellar blades gameplay the real star of the show and surpass all expectations. stellar blade's narrative could be more compelling not living up to its potential while stellar blades main highlight is its combat the narrative is probably its weakest point. this doesnt mean the narrative isnt worth experiencing it just doesnt do enough to stand out. the overarching plot is quite exciting but often held back with key moments lacking emotional impact. the narrative does not break any new ground sometimes begging the question of whether its living up to its full potential. stellar blade is set in a derelict world with many opportunities to tell exciting stories. most of these selfcontained stories can be experienced via sidequests and activities some unlocking major features while others might involve a math puzzle. one of the more consequential side quests involves helping a hairdresser where eve needs to find items like a hair dryer and scissors for them. completing the mission will allow players to customize eves hair at the hairdressers salon. while side quests are a good distraction the main story beats can be a bit predictable. much like nier automatas lore stellar blades universe could benefit from more worldbuilding it still has enough twists entertaining action sequences and hits all the right notes that will resonate with most action rpg players. stellar blades world feels and sounds familiar taking the right inspirations stellar blades vibe and world invoke a profound familiarity reminiscent of nier automata while infusing core mechanics from soulslike titles. the semiopen world often reminds me of niers desolate postapocalyptic landscape of deserts junkyards and dilapidated buildings. while familiar these hubs intertwine storytelling and exploration with soulslike elements with the utmost finesse. stellar blade proves that not every game needs to be an exhausting open world with content that serves no purpose. when exploring various environments players will solve basic puzzles find new nano suitscosmetic items and upgrades to bolster eves health. it always pays off to go off the beaten path to hunt for rewards and collectibles that ultimately benefit eve in the long run. the game also goes a bit further to incorporate minigames into some mundane tasks elevating the overall gameplay experience. stellar blade proves that not every game needs to be an exhausting open world with content that serves no purpose and achieves this balance exceptionally well. for example some chests require players to play a minigame that uses the dpad or redirect energy using a unique mechanic that utilizes both thumbsticks. each minigame seems unsophisticated at first but progressively escalates in complexity further into the story. taking a cue from the best soulslike games players will also run into supply camps and resting points where they can upgrade eves abilities stats and items. like bonfires these camps also replenish eves health and the limited number of health tumblers while also respawning enemies in the area. players can also use a phone booth to fast travel in stellar blade in case they want to farm enemies for xp or look for more collectibles in other areas. its a familiar setting that works well for stellar blade and doesn't detract from all the fun. what brings stellar blades world to most life is some of the distinctive soundtrack composed by keiichi okabe. the revered composer has delivered yet another evocative soundtrack that perfectly sets up major set pieces and key moments. from feeling like sitting in a latenight bar at supply camps to tensionfilled background scores the soundtrack reinforces the level of immersion with splendid flair. stellar blades world is a charming throwback to linear titles that is genuinely a breath of fresh air. in a sea filled with bloated openworld titles the game stands out by amalgamating many borrowed ideas with invigorating combat and rpg systems. how stellar blade looks performs meant for the ps5 while most of stellar blade looks stunning and stimulating it needs some finetuning in the character model department. eve and most main characters have been crafted with great detail but noticeable artifacts around their character models often hamper the experience. screenshots would usually turn out blurry even after turning off the motion blur feature. for what its worth the visual fidelity of the open world looks remarkable most of the time but the aforementioned inconsistencies during cut scenes would often stick out like a sore thumb. as for performance stellar blade runs at a smooth 60fps using both balanced and performance modes which should be the ideal way to experience this game. having said that the draw distance could use some work as faraway enemies would often depopulate or populate jarringly in the semiopen world. these enemies would also patrol the area at a lower frame rate than usual looking quite comical and reminiscent of a bygone era. its fair to say however that stellar blades performance was mostly solid since there were no gamebreaking bugs crashes or glitches experienced during my 25hour playthrough. final thoughts review score 4.55 shift ups stellar blade stands tall as a stellar debut for the ps5 and is undoubtedly going to be a staple for many action rpg fans. its main strength lies in its combat mechanics and boss designs which often steal the show. with a familiar setting inspired by its source material stellar blade can still be quite an enamoring and challenging game that will test your skills and patience with pulsepounding encounters. shift up coalesces all the right tropes from some of its most revered contemporaries into stellar blade while refining quintessential elements from soulslite classics. its a testament to how gameplay can be exciting fun and at its finest when done right. though its narrative pacing and worldbuilding may falter slightly stellar blade as a whole is an actionpacked marvel and a wonderful addition to playstations exclusive gaming family.\n",
      "\n",
      "Анализ частоты слов:\n",
      "{'stellar': 32, 'blade': 21, 'latest': 1, 'exclusive': 2, 'hit': 2, 'playstation': 1, 'excels': 1, 'delivering': 1, 'highly': 1, 'riveting': 2, 'action': 6, 'rpg': 5, 'shift': 3, 'up': 5, 'corporation': 1, 'has': 6, 'crafted': 2, 'impressive': 1, 'linear': 2, 'title': 1, 'takes': 1, 'influences': 1, 'from': 12, 'some': 8, 'most': 8, 'renowned': 1, 'games': 2, 'recent': 1, 'times': 1, 'even': 4, 'though': 2, 'parallels': 1, 'are': 4, 'quite': 5, 'apparent': 1, 'doesnt': 3, 'try': 1, 'reinvent': 1, 'wheel': 1, 'but': 6, 'rather': 1, 'refines': 1, 'what': 3, 'players': 13, 'already': 1, 'familiar': 5, 'centered': 1, 'around': 3, 'eve': 7, 'member': 1, 'th': 1, 'airborne': 1, 'division': 1, 'who': 2, 'come': 1, 'back': 2, 'ravaged': 1, 'earth': 1, 'offworld': 1, 'colony': 1, 'she': 1, 'along': 1, 'other': 3, 'warriors': 1, 'been': 2, 'sent': 1, 'investigate': 1, 'origins': 1, 'naytibas': 3, 'reclaim': 1, 'planet': 1, 'humanity': 1, 'during': 4, 'course': 1, 'her': 1, 'mission': 2, 'discovers': 1, 'history': 1, 'between': 1, 'humans': 1, 'far': 2, 'more': 6, 'complicated': 1, 'than': 2, 'anticipated': 1, 'immediate': 1, 'mustplay': 1, 'ps': 3, 'pros': 1, 'spectacular': 1, 'combat': 7, 'mechanics': 8, 'solid': 4, 'performance': 4, 'cool': 1, 'abilities': 4, 'evocative': 2, 'soundtrack': 4, 'cons': 1, 'inconsistent': 1, 'narrative': 6, 'pacing': 2, 'minor': 1, 'visual': 2, 'issues': 1, 'gameplay': 6, 'star': 2, 'show': 3, 'fun': 3, 'exhilarating': 1, 'encounters': 2, 'set': 3, 'semiopen': 3, 'world': 11, 'akin': 1, 'cult': 1, 'nier': 4, 'automata': 3, 'while': 12, 'borrowing': 1, 'elements': 3, 'soulslite': 2, 'titles': 5, 'like': 7, 'jedi': 1, 'fallen': 1, 'order': 1, 'may': 2, 'initially': 1, 'sound': 1, 'intimidating': 1, 'isnt': 2, 'as': 6, 'steadfast': 1, 'genres': 1, 'common': 1, 'stereotypes': 1, 'can': 11, 'be': 13, 'rewarding': 1, 'if': 1, 'use': 5, 'all': 5, 'systems': 2, 'intended': 1, 'story': 3, 'mode': 1, 'those': 1, 'arent': 1, 'experienced': 3, 'soulslike': 6, 'demands': 1, 'its': 16, 'precise': 1, 'adaptable': 1, 'their': 2, 'actions': 1, 'normal': 1, 'difficulty': 1, 'playing': 1, 'defensive': 1, 'style': 1, 'will': 7, 'boon': 1, 'especially': 1, 'boss': 4, 'fights': 1, 'unlike': 1, 'hackandslash': 1, 'simply': 1, 'attacking': 1, 'enemy': 2, 'wont': 1, 'get': 1, 'might': 3, 'work': 2, 'weaker': 1, 'minions': 1, 'battles': 1, 'one': 3, 'needs': 6, 'master': 1, 'timing': 1, 'parrying': 2, 'dodging': 2, \"that's\": 1, 'because': 1, 'when': 3, 'performing': 1, 'perfect': 2, 'parry': 1, 'or': 8, 'dodge': 1, 'counter': 1, 'naytiba': 1, 'devastating': 1, 'damage': 1, 'recharge': 1, 'beta': 1, 'energy': 2, 'quickly': 1, 'turn': 2, 'tide': 1, 'battle': 1, 'due': 1, 'impeccable': 1, 'variety': 1, 'types': 1, 'always': 3, 'consider': 1, 'these': 6, 'learn': 1, 'how': 3, 'read': 1, 'every': 4, 'opponent': 1, 'enemies': 5, 'lurk': 1, 'corner': 1, 'fantastic': 1, 'bosses': 1, 'stumble': 1, 'upon': 1, 'need': 1, 'prepared': 1, 'fight': 2, \"'s\": 1, 'visceral': 2, 'refine': 2, 'established': 2, 'ideas': 3, 'within': 3, 'genre': 2, 'imbuing': 2, 'distinctive': 3, 'flair': 3, 'dance': 1, 'juggling': 1, 'makes': 1, 'encounter': 1, 'there': 2, 'tools': 1, 'your': 2, 'disposal': 1, 'also': 8, 'help': 1, 'overcome': 1, 'challenging': 2, 'opponents': 1, 'guns': 1, 'powerful': 1, 'lasers': 1, 'albeit': 1, 'limited': 2, 'ammo': 1, 'take': 1, 'down': 1, 'afar': 1, 'target': 1, 'weak': 1, 'points': 2, 'after': 3, 'staggering': 1, 'them': 2, 'deploy': 1, 'biotic': 1, 'field': 1, 'generator': 1, 'ground': 2, 'heal': 1, 'herself': 1, 'area': 3, 'effect': 1, 'throw': 1, 'mines': 1, 'enabling': 1, 'various': 2, 'strategies': 1, 'fly': 1, \"blade's\": 2, 'hours': 1, 'intricate': 1, 'innovations': 1, 'make': 1, 'blades': 8, 'real': 1, 'surpass': 1, 'expectations': 1, 'could': 3, 'compelling': 1, 'not': 4, 'living': 2, 'potential': 2, 'main': 4, 'highlight': 1, 'probably': 1, 'weakest': 1, 'point': 1, 'mean': 1, 'worth': 2, 'experiencing': 1, 'just': 1, 'do': 1, 'enough': 2, 'stand': 1, 'out': 4, 'overarching': 1, 'plot': 1, 'exciting': 3, 'often': 6, 'held': 1, 'key': 2, 'moments': 2, 'lacking': 1, 'emotional': 1, 'impact': 1, 'does': 1, 'break': 1, 'any': 1, 'new': 2, 'sometimes': 1, 'begging': 1, 'question': 1, 'whether': 1, 'full': 1, 'derelict': 1, 'many': 3, 'opportunities': 1, 'tell': 1, 'stories': 2, 'selfcontained': 1, 'via': 1, 'sidequests': 1, 'activities': 1, 'unlocking': 1, 'major': 2, 'features': 1, 'others': 1, 'involve': 1, 'math': 1, 'puzzle': 1, 'consequential': 1, 'side': 2, 'quests': 2, 'involves': 1, 'helping': 1, 'hairdresser': 1, 'where': 2, 'find': 2, 'items': 3, 'hair': 2, 'dryer': 1, 'scissors': 1, 'completing': 1, 'allow': 1, 'customize': 1, 'eves': 4, 'hairdressers': 1, 'salon': 1, 'good': 1, 'distraction': 1, 'beats': 1, 'bit': 2, 'predictable': 1, 'much': 1, 'automatas': 1, 'lore': 1, 'universe': 1, 'benefit': 2, 'worldbuilding': 2, 'still': 2, 'twists': 1, 'entertaining': 1, 'sequences': 1, 'hits': 1, 'right': 4, 'notes': 1, 'resonate': 1, 'feels': 1, 'sounds': 1, 'taking': 2, 'inspirations': 1, 'vibe': 1, 'invoke': 1, 'profound': 1, 'familiarity': 1, 'reminiscent': 2, 'infusing': 1, 'core': 1, 'reminds': 1, 'me': 1, 'niers': 1, 'desolate': 1, 'postapocalyptic': 1, 'landscape': 1, 'deserts': 1, 'junkyards': 1, 'dilapidated': 1, 'buildings': 1, 'hubs': 1, 'intertwine': 1, 'storytelling': 1, 'exploration': 1, 'utmost': 1, 'finesse': 1, 'proves': 2, 'game': 6, 'exhausting': 2, 'open': 3, 'content': 2, 'serves': 2, 'no': 3, 'purpose': 2, 'exploring': 1, 'environments': 1, 'solve': 1, 'basic': 1, 'puzzles': 1, 'nano': 1, 'suitscosmetic': 1, 'upgrades': 1, 'bolster': 1, 'health': 3, 'pays': 1, 'off': 3, 'go': 1, 'beaten': 1, 'path': 1, 'hunt': 1, 'rewards': 1, 'collectibles': 2, 'ultimately': 1, 'long': 1, 'run': 2, 'goes': 1, 'further': 2, 'incorporate': 1, 'minigames': 1, 'into': 4, 'mundane': 1, 'tasks': 1, 'elevating': 1, 'overall': 1, 'experience': 3, 'achieves': 1, 'balance': 1, 'exceptionally': 1, 'well': 2, 'example': 1, 'chests': 1, 'require': 1, 'play': 1, 'minigame': 2, 'uses': 1, 'dpad': 1, 'redirect': 1, 'using': 2, 'unique': 1, 'mechanic': 1, 'utilizes': 1, 'both': 2, 'thumbsticks': 1, 'each': 1, 'seems': 1, 'unsophisticated': 1, 'first': 1, 'progressively': 1, 'escalates': 1, 'complexity': 1, 'cue': 1, 'best': 1, 'supply': 2, 'camps': 3, 'resting': 1, 'they': 2, 'upgrade': 1, 'stats': 1, 'bonfires': 1, 'replenish': 1, 'number': 1, 'tumblers': 1, 'respawning': 1, 'phone': 1, 'booth': 1, 'fast': 1, 'travel': 1, 'case': 1, 'want': 1, 'farm': 1, 'xp': 1, 'look': 1, 'areas': 1, 'setting': 2, 'works': 1, \"doesn't\": 1, 'detract': 1, 'brings': 1, 'life': 1, 'composed': 1, 'keiichi': 1, 'okabe': 1, 'revered': 2, 'composer': 1, 'delivered': 1, 'yet': 1, 'another': 1, 'perfectly': 1, 'sets': 1, 'pieces': 1, 'feeling': 1, 'sitting': 1, 'latenight': 1, 'bar': 1, 'tensionfilled': 1, 'background': 1, 'scores': 1, 'reinforces': 1, 'level': 1, 'immersion': 1, 'splendid': 1, 'charming': 1, 'throwback': 1, 'genuinely': 1, 'breath': 1, 'fresh': 1, 'air': 1, 'sea': 1, 'filled': 1, 'bloated': 1, 'openworld': 1, 'stands': 2, 'amalgamating': 1, 'borrowed': 1, 'invigorating': 1, 'looks': 3, 'performs': 1, 'meant': 1, 'stunning': 1, 'stimulating': 1, 'finetuning': 1, 'character': 2, 'model': 1, 'department': 1, 'characters': 1, 'have': 1, 'great': 1, 'detail': 1, 'noticeable': 1, 'artifacts': 1, 'models': 1, 'hamper': 1, 'screenshots': 1, 'would': 4, 'usually': 1, 'blurry': 1, 'turning': 1, 'motion': 1, 'blur': 1, 'feature': 1, 'fidelity': 1, 'remarkable': 1, 'time': 1, 'aforementioned': 1, 'inconsistencies': 1, 'cut': 1, 'scenes': 1, 'stick': 1, 'sore': 1, 'thumb': 1, 'runs': 1, 'smooth': 1, 'fps': 1, 'balanced': 1, 'modes': 1, 'which': 2, 'should': 1, 'ideal': 1, 'way': 1, 'having': 1, 'said': 1, 'draw': 1, 'distance': 1, 'faraway': 1, 'depopulate': 1, 'populate': 1, 'jarringly': 1, 'patrol': 1, 'lower': 1, 'frame': 1, 'rate': 1, 'usual': 1, 'looking': 1, 'comical': 1, 'bygone': 1, 'era': 1, 'fair': 1, 'say': 1, 'however': 1, 'was': 1, 'mostly': 1, 'since': 1, 'were': 1, 'gamebreaking': 1, 'bugs': 1, 'crashes': 1, 'glitches': 1, 'my': 1, 'hour': 1, 'playthrough': 1, 'final': 1, 'thoughts': 1, 'review': 1, 'score': 1, 'ups': 1, 'tall': 1, 'debut': 1, 'undoubtedly': 1, 'going': 1, 'staple': 1, 'fans': 1, 'strength': 1, 'lies': 1, 'designs': 1, 'steal': 1, 'inspired': 1, 'source': 1, 'material': 1, 'enamoring': 1, 'test': 1, 'skills': 1, 'patience': 1, 'pulsepounding': 1, 'coalesces': 1, 'tropes': 1, 'contemporaries': 1, 'refining': 1, 'quintessential': 1, 'classics': 1, 'testament': 1, 'finest': 1, 'done': 1, 'falter': 1, 'slightly': 1, 'whole': 1, 'actionpacked': 1, 'marvel': 1, 'wonderful': 1, 'addition': 1, 'playstations': 1, 'gaming': 1, 'family': 1}\n",
      "\n",
      "Настроение текста: 6\n",
      "\n",
      "Основная информация текста:\n",
      "pros spectacular combat mechanics solid performance cool abilities evocative soundtrack cons inconsistent narrative pacing minor visual issues combat gameplay is the star of the show fun exhilarating encounters set in a semiopen world stellar blade is akin to the cult hit nier automata while borrowing gameplay elements from soulslite titles like jedi fallen order. much like nier automatas lore stellar blades universe could benefit from more worldbuilding it still has enough twists entertaining action sequences and hits all the right notes that will resonate with most action rpg players.\n",
      "\n"
     ]
    }
   ],
   "source": [
    "ryan_gosling = TextAnalyzer(TEXT)\n",
    "\n",
    "print(f'Нормализованный текст:\\n{ryan_gosling.cleaned_text}\\n')\n",
    "print(f'Анализ частоты слов:\\n{ryan_gosling.word_frequency()}\\n')\n",
    "print(f'Настроение текста: {ryan_gosling.analyze_sentiment()}\\n')\n",
    "print(f'Основная информация текста:\\n{ryan_gosling.summarize_text(0.6)}\\n')"
   ]
  },
  {
   "cell_type": "markdown",
   "metadata": {},
   "source": [
    "**Вывод о содержании текста:**\n",
    "\n",
    "Текст представляет собой обзор игры Stellar Blade. Игра была разработана компанией Shift Up Corporation и сочетает в себе элементы из других игр, но не пытается \"изобрести велосипед\", а совершенствует уже знакомые механики. \n",
    "\n",
    "Наиболее часто встречающимися словами являются \"stellar\" и \"blade\".\n",
    "\n",
    "Анализ настроения текста показал положительное число, что позволяет сделать вывод о том, что отзыв положительный.\n",
    "\n",
    "Основная информация текста заключается в следующих тезисах:\n",
    "* В игре потрясающая боевая механика и отличная производительность\n",
    "* В игре представлены классные способности и запоминающийся саундтрек\n",
    "* Повествование ведется в непоследовательном темпе, а также есть небольшие визуальные проблемы\n",
    "* Боевой геймплей - это выдающаяся особенность с веселыми и волнующими столкновениями в полуоткрытом мире\n",
    "* Игра имеет сходство с Nier Automata и Jedi Fallen Order\n",
    "* Дальнейшее построение мира могло бы пойти на пользу вселенной, но в ней есть повороты, интересные последовательности действий и то, что нужно игрокам в action RPG"
   ]
  },
  {
   "cell_type": "markdown",
   "metadata": {},
   "source": [
    "**Вывод по лабораторной работе:**\n",
    "\n",
    "Были изучены основы работы с текстом в языке программирования Python. Был создан инструмент для анализа текста, который обрабатывает текстовые записи (например, отзывы пользователей, статьи или отрывки из книг) и предоставляет некоторые выводы, статистику и преобразования. Инструмент был применен для анализа текста в соответсвии с 25м варантом, сделаны выводы о характере текста."
   ]
  }
 ],
 "metadata": {
  "kernelspec": {
   "display_name": "Python 3",
   "language": "python",
   "name": "python3"
  },
  "language_info": {
   "codemirror_mode": {
    "name": "ipython",
    "version": 3
   },
   "file_extension": ".py",
   "mimetype": "text/x-python",
   "name": "python",
   "nbconvert_exporter": "python",
   "pygments_lexer": "ipython3",
   "version": "3.12.2"
  }
 },
 "nbformat": 4,
 "nbformat_minor": 2
}
